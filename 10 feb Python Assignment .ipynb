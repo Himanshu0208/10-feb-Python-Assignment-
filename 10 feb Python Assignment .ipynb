{
 "cells": [
  {
   "cell_type": "markdown",
   "id": "a0330971-91e5-43f2-84a8-2f40d9501943",
   "metadata": {},
   "source": [
    "# __Ques1__\n",
    "In Python, the open() function is used to open a file. It takes two arguments: the file name and the mode in which the file should be opened.<br>\n",
    "There are several modes of opening a file in Python, which are as follows:<br>\n",
    "'r': This mode is used to open a file for reading. The file pointer is placed at the beginning of the file, and if the file does not exist, an error is raised.<br>\n",
    "'w': This mode is used to open a file for writing. If the file exists, its contents are truncated. If the file does not exist, a new file is created.<br>\n",
    "'x': This mode is used to open a file for exclusive creation. If the file already exists, an error is raised.<br>\n",
    "'a': This mode is used to open a file for writing in append mode. The file pointer is placed at the end of the file, and if the file does not exist, a new file is created.<br>\n",
    "'b': This mode is used to open a file in binary mode.<br>\n",
    "'t': This mode is used to open a file in text mode.<br>\n",
    "'+': This mode is used to open a file for updating (reading and writing)."
   ]
  },
  {
   "cell_type": "markdown",
   "id": "5164b973-5975-495b-9d9c-a6c636a9e320",
   "metadata": {},
   "source": [
    "# __Ques2__\n",
    "The close() function in Python is used to close a file that has been opened using the open() function. It's important to close a file after it has been used because it ensures that all the data that has been written to or read from the file is properly saved and that the file's resources are released.<br>  \n",
    "When a file is opened, the operating system allocates resources to it, such as memory and disk space. These resources are finite, so it's important to release them when they are no longer needed. If a file is not properly closed, these resources may remain allocated to the file, which can cause issues such as file corruption or even system crashes in some cases.<br>  \n",
    "Closing a file also ensures that any changes that have been made to the file are properly saved. If a file is not closed, any changes that have been made may not be saved to disk, which can result in data loss. <br><br>\n",
    "__NOTE:__<br>\n",
    "if we open a file using 'with open()' command then it will automatically gets closed hence its a good practice to use 'with close()' instead of 'open()'"
   ]
  },
  {
   "cell_type": "markdown",
   "id": "13577842-f194-40ab-ac11-43925becb5f5",
   "metadata": {},
   "source": [
    "# __Ques3__"
   ]
  },
  {
   "cell_type": "code",
   "execution_count": 1,
   "id": "945861bb-6a73-458a-b541-974209b0ffa0",
   "metadata": {},
   "outputs": [],
   "source": [
    "with open('text.txt' , 'w') as f:\n",
    "    f.write('I want to become a Data Scientist')"
   ]
  },
  {
   "cell_type": "code",
   "execution_count": 2,
   "id": "2ab50e23-389f-4c70-a23c-fc754f3b1bab",
   "metadata": {},
   "outputs": [],
   "source": [
    "content = ''\n",
    "with open('text.txt' , 'r') as f:\n",
    "    content = f.read()"
   ]
  },
  {
   "cell_type": "code",
   "execution_count": 3,
   "id": "75a1045d-f2aa-412e-99d7-0d7cc0b6f9e3",
   "metadata": {},
   "outputs": [
    {
     "data": {
      "text/plain": [
       "'I want to become a Data Scientist'"
      ]
     },
     "execution_count": 3,
     "metadata": {},
     "output_type": "execute_result"
    }
   ],
   "source": [
    "content"
   ]
  },
  {
   "cell_type": "markdown",
   "id": "56508484-d01e-4bc8-826f-8be270046df6",
   "metadata": {},
   "source": [
    "# __Ques4__"
   ]
  },
  {
   "cell_type": "code",
   "execution_count": 6,
   "id": "c6cf45df-938c-4b2c-84d9-ed6dc1623feb",
   "metadata": {},
   "outputs": [],
   "source": [
    "with open('text.txt' , 'w') as f:\n",
    "    f.write('I want to become a Data Scientist \\n')\n",
    "    f.write('Hello world \\n')\n",
    "    f.write('pwskills \\n')\n",
    "    f.write('tho kaise hain aap log \\n')"
   ]
  },
  {
   "cell_type": "code",
   "execution_count": 7,
   "id": "7c07ac3c-4371-43a1-a273-e4a4d69d3922",
   "metadata": {},
   "outputs": [
    {
     "data": {
      "text/plain": [
       "'I want to become a Data Scientist \\nHello world \\npwskills \\ntho kaise hain aap log \\n'"
      ]
     },
     "execution_count": 7,
     "metadata": {},
     "output_type": "execute_result"
    }
   ],
   "source": [
    "# read -> it will read the whole file\n",
    "content = ''\n",
    "with open('text.txt' , 'r') as f:\n",
    "    content = f.read()\n",
    "content"
   ]
  },
  {
   "cell_type": "code",
   "execution_count": 10,
   "id": "d69f65d7-d2c9-4517-b64b-93fc7b22d4d8",
   "metadata": {},
   "outputs": [
    {
     "data": {
      "text/plain": [
       "'I want to become a Data Scientist \\n'"
      ]
     },
     "execution_count": 10,
     "metadata": {},
     "output_type": "execute_result"
    }
   ],
   "source": [
    "# readline ->it will read a single line at once until a new line character occurs\n",
    "content = ''\n",
    "with open('text.txt' , 'r') as f:\n",
    "    content = f.readline()\n",
    "content"
   ]
  },
  {
   "cell_type": "code",
   "execution_count": 13,
   "id": "a2fac828-c066-482e-898f-36ec3d41ec12",
   "metadata": {},
   "outputs": [
    {
     "data": {
      "text/plain": [
       "['I want to become a Data Scientist \\n',\n",
       " 'Hello world \\n',\n",
       " 'pwskills \\n',\n",
       " 'tho kaise hain aap log \\n']"
      ]
     },
     "execution_count": 13,
     "metadata": {},
     "output_type": "execute_result"
    }
   ],
   "source": [
    "# readlines ->it will read all lines and make them seprate element and put them in a list and return that list \n",
    "content = ''\n",
    "with open('text.txt' , 'r') as f:\n",
    "    content = f.readlines()\n",
    "content"
   ]
  },
  {
   "cell_type": "markdown",
   "id": "c401fa9e-c2bd-4e10-ae0b-e9477356575c",
   "metadata": {},
   "source": [
    "# __Ques5__\n",
    "The with statement in Python is used with the open() function to ensure that a file is properly closed after it has been used. When a file is opened using the open() function, it's important to close the file after it has been used to release the resources associated with the file and to ensure that any changes that have been made to the file are properly saved.\n",
    "<br>\n",
    "The advantage of using the with statement and open() together is that it automatically takes care of closing the file, even if an error occurs in the code block inside the with statement. This is because the with statement sets up a context in which the file is automatically closed at the end of the block, regardless of whether an exception is raised or not.\n"
   ]
  },
  {
   "cell_type": "markdown",
   "id": "5e350251-3dbc-4402-9a63-44eb13e8096d",
   "metadata": {},
   "source": [
    "# __Ques6__"
   ]
  },
  {
   "cell_type": "markdown",
   "id": "e8521b98-e708-4176-b558-5d473e4aed0d",
   "metadata": {},
   "source": [
    "write(): The write() function is used to write a single string to a file. It takes a string as an argument and writes the string to the file. If the file does not exist, it will be created. If the file exists, the data will be written to the end of the file."
   ]
  },
  {
   "cell_type": "code",
   "execution_count": 14,
   "id": "7c86a529-894d-43cd-a027-5d4183435203",
   "metadata": {},
   "outputs": [],
   "source": [
    "with open('text.txt' , 'w') as f:\n",
    "    f.write(' 1')\n",
    "    f.write(' 2')\n",
    "    f.write(' 3')"
   ]
  },
  {
   "cell_type": "markdown",
   "id": "b3aa75f6-74de-4630-8552-082492dd2521",
   "metadata": {},
   "source": [
    "writelines(): The writelines() function is used to write a list of strings to a file. It takes a list of strings as an argument and writes each string to the file. If the file does not exist, it will be created. If the file exists, the data will be written to the end of the file."
   ]
  },
  {
   "cell_type": "code",
   "execution_count": 16,
   "id": "fc91acc0-f944-4cd8-bb4c-1c7735db37f2",
   "metadata": {},
   "outputs": [],
   "source": [
    "with open('text.txt', 'w') as file:\n",
    "    lines = ['\\n1\\n', '2\\n', '3\\n']\n",
    "    file.writelines(lines)"
   ]
  }
 ],
 "metadata": {
  "kernelspec": {
   "display_name": "Python 3 (ipykernel)",
   "language": "python",
   "name": "python3"
  },
  "language_info": {
   "codemirror_mode": {
    "name": "ipython",
    "version": 3
   },
   "file_extension": ".py",
   "mimetype": "text/x-python",
   "name": "python",
   "nbconvert_exporter": "python",
   "pygments_lexer": "ipython3",
   "version": "3.10.8"
  }
 },
 "nbformat": 4,
 "nbformat_minor": 5
}
